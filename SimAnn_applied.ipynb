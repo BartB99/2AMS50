{
 "cells": [
  {
   "cell_type": "code",
   "execution_count": 5,
   "metadata": {},
   "outputs": [],
   "source": [
    "import gurobipy as gp\n",
    "from gurobipy import GRB\n",
    "import numpy as np\n",
    "import pandas as pd\n",
    "import random\n",
    "import math\n",
    "import matplotlib.pyplot as plt"
   ]
  },
  {
   "cell_type": "code",
   "execution_count": null,
   "metadata": {},
   "outputs": [],
   "source": [
    "# create adjacency matrix\n",
    "feature_df = pd.read_csv('AK_features.csv', header=None)\n",
    "zero_matrix = np.zeros((len(feature_df), len(feature_df)))\n",
    "adj_df = pd.DataFrame(zero_matrix)\n",
    "id_map = {}\n",
    "\n",
    "for i, id in enumerate(feature_df[0]):\n",
    "    id_map[id] = i\n",
    "    \n",
    "id_map"
   ]
  },
  {
   "cell_type": "code",
   "execution_count": 7,
   "metadata": {},
   "outputs": [],
   "source": [
    "for node, adj_list in zip(feature_df[0], feature_df[2]):\n",
    "    node_idx = id_map[node]\n",
    "    for adj in adj_list.split(','):\n",
    "        adj_idx = id_map[int(adj[1:])]\n",
    "        adj_df.iloc[node_idx, adj_idx] = 1\n",
    "# adj_df\n",
    "adj_matrix = adj_df.values"
   ]
  },
  {
   "cell_type": "code",
   "execution_count": 8,
   "metadata": {},
   "outputs": [
    {
     "data": {
      "text/plain": [
       "array([[0., 1., 0., 1., 1., 0., 1., 0., 0., 0., 0., 0., 0., 0., 0., 0.,\n",
       "        0., 0., 0., 1., 0., 0., 0., 0., 0., 1., 0., 0., 0., 0.],\n",
       "       [1., 0., 1., 1., 0., 1., 0., 0., 0., 0., 1., 0., 0., 0., 0., 0.,\n",
       "        0., 0., 0., 0., 0., 0., 0., 0., 0., 1., 0., 0., 0., 0.],\n",
       "       [0., 1., 0., 1., 0., 0., 0., 0., 0., 0., 0., 0., 0., 0., 0., 0.,\n",
       "        0., 0., 0., 0., 0., 0., 0., 0., 0., 0., 0., 0., 0., 0.],\n",
       "       [1., 1., 1., 0., 0., 0., 0., 0., 0., 0., 0., 0., 0., 0., 0., 0.,\n",
       "        0., 0., 0., 0., 0., 0., 0., 0., 0., 0., 0., 0., 0., 0.],\n",
       "       [1., 0., 0., 0., 0., 0., 0., 0., 0., 0., 0., 0., 1., 1., 0., 0.,\n",
       "        0., 0., 0., 1., 1., 0., 0., 0., 0., 1., 1., 1., 0., 0.],\n",
       "       [0., 1., 0., 0., 0., 0., 0., 0., 0., 1., 0., 0., 0., 0., 0., 0.,\n",
       "        0., 0., 0., 0., 0., 0., 0., 0., 0., 0., 0., 0., 0., 0.],\n",
       "       [1., 0., 0., 0., 0., 0., 0., 0., 1., 0., 0., 0., 0., 0., 0., 0.,\n",
       "        0., 0., 0., 1., 0., 0., 0., 0., 0., 0., 0., 0., 0., 0.],\n",
       "       [0., 0., 0., 0., 0., 0., 0., 0., 0., 0., 0., 0., 0., 0., 0., 0.,\n",
       "        0., 1., 0., 1., 0., 0., 0., 0., 0., 0., 0., 0., 0., 0.],\n",
       "       [0., 0., 0., 0., 0., 0., 1., 0., 0., 0., 0., 0., 0., 0., 0., 0.,\n",
       "        0., 1., 0., 1., 0., 0., 0., 0., 0., 0., 0., 0., 0., 0.],\n",
       "       [0., 0., 0., 0., 0., 1., 0., 0., 0., 0., 0., 0., 0., 0., 0., 0.,\n",
       "        0., 0., 0., 0., 0., 0., 0., 0., 0., 0., 0., 0., 0., 0.],\n",
       "       [0., 1., 0., 0., 0., 0., 0., 0., 0., 0., 0., 0., 0., 0., 0., 0.,\n",
       "        0., 0., 0., 0., 0., 0., 0., 0., 0., 1., 0., 0., 0., 0.],\n",
       "       [0., 0., 0., 0., 0., 0., 0., 0., 0., 0., 0., 0., 1., 1., 0., 1.,\n",
       "        0., 0., 0., 0., 0., 0., 0., 0., 0., 0., 0., 0., 0., 0.],\n",
       "       [0., 0., 0., 0., 1., 0., 0., 0., 0., 0., 0., 1., 0., 1., 0., 0.,\n",
       "        0., 0., 0., 0., 0., 0., 0., 0., 0., 0., 0., 1., 0., 0.],\n",
       "       [0., 0., 0., 0., 1., 0., 0., 0., 0., 0., 0., 1., 1., 0., 0., 0.,\n",
       "        0., 0., 0., 0., 1., 0., 0., 0., 0., 1., 0., 0., 0., 0.],\n",
       "       [0., 0., 0., 0., 0., 0., 0., 0., 0., 0., 0., 0., 0., 0., 0., 0.,\n",
       "        0., 0., 0., 0., 0., 0., 0., 0., 0., 0., 0., 0., 0., 1.],\n",
       "       [0., 0., 0., 0., 0., 0., 0., 0., 0., 0., 0., 1., 0., 0., 0., 0.,\n",
       "        0., 0., 1., 0., 0., 1., 1., 0., 1., 0., 0., 0., 0., 1.],\n",
       "       [0., 0., 0., 0., 0., 0., 0., 0., 0., 0., 0., 0., 0., 0., 0., 0.,\n",
       "        0., 0., 0., 0., 0., 1., 0., 1., 0., 0., 0., 0., 0., 0.],\n",
       "       [0., 0., 0., 0., 0., 0., 0., 1., 1., 0., 0., 0., 0., 0., 0., 0.,\n",
       "        0., 0., 0., 1., 0., 0., 0., 0., 0., 0., 0., 0., 0., 0.],\n",
       "       [0., 0., 0., 0., 0., 0., 0., 0., 0., 0., 0., 0., 0., 0., 0., 1.,\n",
       "        0., 0., 0., 0., 0., 1., 0., 0., 0., 0., 0., 0., 0., 0.],\n",
       "       [1., 0., 0., 0., 1., 0., 1., 1., 1., 0., 0., 0., 0., 0., 0., 0.,\n",
       "        0., 1., 0., 0., 0., 0., 0., 0., 0., 0., 1., 1., 1., 0.],\n",
       "       [0., 0., 0., 0., 1., 0., 0., 0., 0., 0., 0., 0., 0., 1., 0., 0.,\n",
       "        0., 0., 0., 0., 0., 0., 0., 0., 0., 1., 0., 0., 0., 0.],\n",
       "       [0., 0., 0., 0., 0., 0., 0., 0., 0., 0., 0., 0., 0., 0., 0., 1.,\n",
       "        1., 0., 1., 0., 0., 0., 1., 1., 0., 0., 0., 0., 0., 0.],\n",
       "       [0., 0., 0., 0., 0., 0., 0., 0., 0., 0., 0., 0., 0., 0., 0., 1.,\n",
       "        0., 0., 0., 0., 0., 1., 0., 1., 0., 0., 0., 0., 0., 0.],\n",
       "       [0., 0., 0., 0., 0., 0., 0., 0., 0., 0., 0., 0., 0., 0., 0., 0.,\n",
       "        1., 0., 0., 0., 0., 1., 1., 0., 0., 0., 0., 0., 0., 0.],\n",
       "       [0., 0., 0., 0., 0., 0., 0., 0., 0., 0., 0., 0., 0., 0., 0., 1.,\n",
       "        0., 0., 0., 0., 0., 0., 0., 0., 0., 0., 0., 0., 0., 1.],\n",
       "       [1., 1., 0., 0., 1., 0., 0., 0., 0., 0., 1., 0., 0., 1., 0., 0.,\n",
       "        0., 0., 0., 0., 1., 0., 0., 0., 0., 0., 0., 0., 0., 0.],\n",
       "       [0., 0., 0., 0., 1., 0., 0., 0., 0., 0., 0., 0., 0., 0., 0., 0.,\n",
       "        0., 0., 0., 1., 0., 0., 0., 0., 0., 0., 0., 1., 1., 0.],\n",
       "       [0., 0., 0., 0., 1., 0., 0., 0., 0., 0., 0., 0., 1., 0., 0., 0.,\n",
       "        0., 0., 0., 1., 0., 0., 0., 0., 0., 0., 1., 0., 1., 0.],\n",
       "       [0., 0., 0., 0., 0., 0., 0., 0., 0., 0., 0., 0., 0., 0., 0., 0.,\n",
       "        0., 0., 0., 1., 0., 0., 0., 0., 0., 0., 1., 1., 0., 0.],\n",
       "       [0., 0., 0., 0., 0., 0., 0., 0., 0., 0., 0., 0., 0., 0., 1., 1.,\n",
       "        0., 0., 0., 0., 0., 0., 0., 0., 1., 0., 0., 0., 0., 0.]])"
      ]
     },
     "execution_count": 8,
     "metadata": {},
     "output_type": "execute_result"
    }
   ],
   "source": [
    "adj_matrix"
   ]
  },
  {
   "cell_type": "code",
   "execution_count": null,
   "metadata": {},
   "outputs": [],
   "source": [
    "def evaluate(distribution, p_bar):\n",
    "\n",
    "    # calculate RMSE\n",
    "    RMSE = ...\n",
    "\n",
    "    # calculate compactness score\n",
    "    CS = ...\n",
    "\n",
    "    return RMSE+CS # misschien normalizen zodat het tussen de 0 en 1 valt voor interpreteerbaarheid?"
   ]
  },
  {
   "cell_type": "code",
   "execution_count": 170,
   "metadata": {},
   "outputs": [],
   "source": [
    "def create_random_distribution(num_districts, num_units):\n",
    "    \n",
    "    keys = [i+1 for i in range(num_districts)]\n",
    "    distribution = {key: [] for key in keys}\n",
    "    assigned_units = []\n",
    "\n",
    "    # randomly initialize district centers, one unit per district\n",
    "    list_units = list(range(num_units))\n",
    "    list_districts = list(range(1, num_districts+1))\n",
    "\n",
    "    for d in range(num_districts):\n",
    "        random_unit = random.choice(list_units)\n",
    "        random_district = random.choice(list_districts)\n",
    "        distribution[random_district].append(random_unit)\n",
    "        list_units.remove(random_unit)\n",
    "        list_districts.remove(random_district)\n",
    "        assigned_units.append(random_unit)\n",
    "        \n",
    "    # add other units to districts based on adjacency matrix\n",
    "    for unit in list_units:\n",
    "\n",
    "        for i in range(num_units):\n",
    "\n",
    "            if i in assigned_units and adj_matrix[unit, i] == 1:\n",
    "\n",
    "                # find key of the unit\n",
    "                for key, value_list in distribution.items():\n",
    "                    if i in value_list:\n",
    "                        found_key = key\n",
    "                        break\n",
    "                \n",
    "                # append the unit to the district where there is also an adjacent unit\n",
    "                distribution[found_key].append(unit)\n",
    "                assigned_units.append(unit)\n",
    "                break\n",
    "\n",
    "        # in case a unit entered the loop but none of its adjacent units were assigned yet, it is randomly assigned to a district here\n",
    "        if unit not in assigned_units:\n",
    "            distribution[np.random.randint(1, num_districts+1)].append(unit)\n",
    "\n",
    "    len_total = sum(len(lst) for lst in distribution.values())\n",
    "\n",
    "    return distribution, len_total"
   ]
  },
  {
   "cell_type": "code",
   "execution_count": 202,
   "metadata": {},
   "outputs": [
    {
     "data": {
      "text/plain": [
       "({1: [2], 2: [9, 7], 3: [0, 1, 3, 4, 6, 8], 4: [5]}, 10)"
      ]
     },
     "execution_count": 202,
     "metadata": {},
     "output_type": "execute_result"
    }
   ],
   "source": [
    "create_random_distribution(4, 10)"
   ]
  },
  {
   "cell_type": "code",
   "execution_count": null,
   "metadata": {},
   "outputs": [],
   "source": [
    "# basic framework for simulated annealing step\n",
    "def SimulatedAnnealing(objective, bounds, n_iterations, step_size, temp, num_districts, num_units):\n",
    "\n",
    "    # generate initial district distribution\n",
    "    best_solution = create_random_distribution(num_districts, num_units)\n",
    "\n",
    "    # evaluate this distribution using evaluate\n",
    "    best_evaluate = evaluate(best_solution)\n",
    "\n",
    "    # current working solution\n",
    "    current_distribution, current_evaluate = best_solution, best_evaluate\n",
    "    \n",
    "    for i in range(n_iterations):\n",
    "        \n",
    "        # take a step by randomly perturbing previous distribution\n",
    "        candidate_distribution = perturb()\n",
    "\n",
    "        # evaluate step using MSE\n",
    "        candidate_evaluate = evaluate()\n",
    "    \n",
    "        # check for new best solution\n",
    "        if candidate_evaluate < current_evaluate: # for minimization, use > for maximiation problem\n",
    "            best_solution, best_evaluate = candidate_distribution, candidate_evaluate\n",
    "            #print('>%d f(%s) = %.5f' % (i, best, best_eval))\n",
    "    \n",
    "        # calculate difference in scores\n",
    "        diff = candidate_evaluate-current_evaluate\n",
    "    \n",
    "        # calculate temp for each epoch\n",
    "        t = temp / float(i + 1)\n",
    "    \n",
    "        # calculate metropolis acceptance criterion\n",
    "        metropolis = math.exp(-diff / t)\n",
    "    \n",
    "        # check whether we should keep new point\n",
    "        if diff < 0 or np.random.rand() < metropolis:\n",
    "            curr, curr_eval = candidate_distribution, candidate_evaluate\n",
    "\n",
    "    return [best, best_eval]"
   ]
  }
 ],
 "metadata": {
  "kernelspec": {
   "display_name": "2AMS50",
   "language": "python",
   "name": "python3"
  },
  "language_info": {
   "codemirror_mode": {
    "name": "ipython",
    "version": 3
   },
   "file_extension": ".py",
   "mimetype": "text/x-python",
   "name": "python",
   "nbconvert_exporter": "python",
   "pygments_lexer": "ipython3",
   "version": "3.10.13"
  }
 },
 "nbformat": 4,
 "nbformat_minor": 2
}
