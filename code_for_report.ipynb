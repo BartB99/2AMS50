{
 "cells": [
  {
   "cell_type": "markdown",
   "metadata": {},
   "source": [
    "### Imports"
   ]
  },
  {
   "cell_type": "code",
   "execution_count": null,
   "metadata": {},
   "outputs": [],
   "source": [
    "import pandas as pd\n",
    "import seaborn as sns\n",
    "import matplotlib.pyplot as plt\n",
    "from gurobipy import Model, GRB, quicksum"
   ]
  },
  {
   "cell_type": "markdown",
   "metadata": {},
   "source": [
    "### Preprocessing & EDA"
   ]
  },
  {
   "cell_type": "code",
   "execution_count": null,
   "metadata": {},
   "outputs": [],
   "source": [
    "county_or_tract = 'county' # 'tract'\n",
    "state = 'AK' # 'RI', 'WA', 'AR'\n",
    "\n",
    "distance_data = 'data/{}_{}_distance.csv'.format(county_or_tract, state)\n",
    "population_data = 'data/{}_{}_population.txt'.format(county_or_tract, state)\n",
    "features_data = 'data/{}_{}_features.csv'.format(county_or_tract, state)"
   ]
  },
  {
   "cell_type": "code",
   "execution_count": null,
   "metadata": {},
   "outputs": [],
   "source": [
    "dist_df = pd.read_csv(distance_data)\n",
    "with open(population_data) as f:\n",
    "    pop = f.read().splitlines()\n",
    "\n",
    "pop_df = []\n",
    "for p in pop[1:]:\n",
    "    pop_df.append(p.split(' '))\n",
    "pop_df = pd.DataFrame(pop_df, columns=[\"id\", \"pop\"])"
   ]
  },
  {
   "cell_type": "code",
   "execution_count": null,
   "metadata": {},
   "outputs": [],
   "source": [
    "dist_df = pd.read_csv('AK_distances.csv')\n",
    "with open(\"AK.txt\") as f:\n",
    "    pop = f.read().splitlines()\n",
    "\n",
    "pop_df = []\n",
    "for p in pop[1:]:\n",
    "    pop_df.append(p.split(' '))\n",
    "pop_df = pd.DataFrame(pop_df, columns=[\"id\", \"pop\"])"
   ]
  }
 ],
 "metadata": {
  "language_info": {
   "name": "python"
  }
 },
 "nbformat": 4,
 "nbformat_minor": 2
}
